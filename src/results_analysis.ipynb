{
 "cells": [
  {
   "cell_type": "markdown",
   "metadata": {},
   "source": [
    "## Compare node metrics results"
   ]
  },
  {
   "cell_type": "code",
   "execution_count": null,
   "metadata": {},
   "outputs": [],
   "source": [
    "# take metrics results, sort them, add the name of the artists\n",
    "\n",
    "import pandas as pd\n",
    "import utils, create_graphs\n",
    "\n",
    "centralities_names = utils.METRICS[4:9]\n",
    "centralities_rankings = {}\n",
    "\n",
    "nodes_df, edges_df = create_graphs.read_dataset()\n",
    "nodes_df = nodes_df.rename(columns={\"spotify_id\": \"node\"})\n",
    "nodes_df = nodes_df.set_index(\"node\")\n",
    "#print(nodes_df)\n",
    "\n",
    "for measure in centralities_names:\n",
    "    df = pd.read_csv(f\"../results/real_node_metrics_{measure}.csv\", sep=';', index_col=0)\n",
    "    df = df.join(nodes_df[\"name\"], lsuffix=\"_metrics\", rsuffix=\"_dataset\")\n",
    "    df = df.sort_values(measure, ascending=False)\n",
    "    print(df)\n",
    "\n",
    "    centralities_rankings[measure] = df"
   ]
  },
  {
   "cell_type": "code",
   "execution_count": null,
   "metadata": {},
   "outputs": [],
   "source": [
    "# shows distribution of all node metrics in single histogram\n",
    "\n",
    "import matplotlib.pyplot as plt\n",
    "#import numpy as np\n",
    "\n",
    "centralities_lists = [metric[measure].to_numpy()/max(metric[measure]) for measure, metric in centralities_rankings.items()]\n",
    "labels = [measure for measure in centralities_rankings.keys()]\n",
    "\n",
    "#plt.figure(figsize=(8, 6))\n",
    "for l in centralities_lists:\n",
    "    plt.plot(l)\n",
    "plt.legend(labels)"
   ]
  },
  {
   "cell_type": "code",
   "execution_count": 27,
   "metadata": {},
   "outputs": [
    {
     "name": "stdout",
     "output_type": "stream",
     "text": [
      "                                                           name  degree   \n",
      "node                                                                      \n",
      "7zvixFTda9W49rPuaK3pKL                                   herluv  156636  \\\n",
      "7zdfnAJZnKAaL27zyxCdGl                            Bolat Nurimov  156635   \n",
      "7zbcwixMeXkXFrKXM6CbDd  Maija Salon musiikkileikkikoulun lapset  156634   \n",
      "7zUEJRavunKtqi2n029IHn                     Mohamed El Sharnouby  156633   \n",
      "7yyMOelJOwDbRoBSGMj2x3                                   Kokipo  156632   \n",
      "...                                                         ...     ...   \n",
      "5fMUXHkw8R8eOP2RNVYEZX                                    Diplo      10   \n",
      "77AiFEVeAVj2ORpC85QVJs                               Steve Aoki       8   \n",
      "1Cs0zKBU1kc0i8ypK3B9ai                             David Guetta      14   \n",
      "13y7CgLHjMVRMDqxdx0Xdo                               Gucci Mane       7   \n",
      "7hJcb9fa4alzcOq3EaNPoG                               Snoop Dogg       9   \n",
      "\n",
      "                        closeness  betweenness  pagerank  eigenvector   \n",
      "node                                                                    \n",
      "7zvixFTda9W49rPuaK3pKL     157100       158144    160772       167856  \\\n",
      "7zdfnAJZnKAaL27zyxCdGl     157099       158076    160771       167855   \n",
      "7zbcwixMeXkXFrKXM6CbDd     157098       158063    160770       167854   \n",
      "7zUEJRavunKtqi2n029IHn     157097       158042    160769       167853   \n",
      "7yyMOelJOwDbRoBSGMj2x3     157096       157916    160768       167852   \n",
      "...                           ...          ...       ...          ...   \n",
      "5fMUXHkw8R8eOP2RNVYEZX          3            4        17           70   \n",
      "77AiFEVeAVj2ORpC85QVJs          6            8        14           59   \n",
      "1Cs0zKBU1kc0i8ypK3B9ai          4           10        21           45   \n",
      "13y7CgLHjMVRMDqxdx0Xdo         20           17        11            3   \n",
      "7hJcb9fa4alzcOq3EaNPoG          2            1        10            7   \n",
      "\n",
      "                        avg_rank  \n",
      "node                              \n",
      "7zvixFTda9W49rPuaK3pKL  160101.6  \n",
      "7zdfnAJZnKAaL27zyxCdGl  160087.2  \n",
      "7zbcwixMeXkXFrKXM6CbDd  160083.8  \n",
      "7zUEJRavunKtqi2n029IHn  160078.8  \n",
      "7yyMOelJOwDbRoBSGMj2x3  160052.8  \n",
      "...                          ...  \n",
      "5fMUXHkw8R8eOP2RNVYEZX      20.8  \n",
      "77AiFEVeAVj2ORpC85QVJs      19.0  \n",
      "1Cs0zKBU1kc0i8ypK3B9ai      18.8  \n",
      "13y7CgLHjMVRMDqxdx0Xdo      11.6  \n",
      "7hJcb9fa4alzcOq3EaNPoG       5.8  \n",
      "\n",
      "[167856 rows x 7 columns]\n"
     ]
    }
   ],
   "source": [
    "# see how artists rank in the metrics\n",
    "\n",
    "nodes_subdf = nodes_df[[\"name\"]]\n",
    "#print(nodes_subdf)\n",
    "\n",
    "for measure, ranking in centralities_rankings.items():\n",
    "    nodes_subdf = nodes_subdf.join(ranking[measure], lsuffix=\"_metrics\", rsuffix=\"_dataset\")\n",
    "    nodes_subdf[measure] = nodes_subdf[measure].rank(method=\"first\", ascending=False).sub(1).astype(int)+1\n",
    "\n",
    "nodes_subdf[\"avg_rank\"] = nodes_subdf[centralities_names].mean(axis=1)\n",
    "\n",
    "nodes_subdf = nodes_subdf.sort_values(\"avg_rank\")\n",
    "print(nodes_subdf)"
   ]
  }
 ],
 "metadata": {
  "kernelspec": {
   "display_name": "Python 3",
   "language": "python",
   "name": "python3"
  },
  "language_info": {
   "codemirror_mode": {
    "name": "ipython",
    "version": 3
   },
   "file_extension": ".py",
   "mimetype": "text/x-python",
   "name": "python",
   "nbconvert_exporter": "python",
   "pygments_lexer": "ipython3",
   "version": "3.10.4"
  }
 },
 "nbformat": 4,
 "nbformat_minor": 2
}
