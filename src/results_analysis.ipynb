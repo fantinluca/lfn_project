{
 "cells": [
  {
   "cell_type": "markdown",
   "metadata": {},
   "source": [
    "## Compare node metrics results"
   ]
  },
  {
   "cell_type": "code",
   "execution_count": 6,
   "metadata": {},
   "outputs": [
    {
     "name": "stdout",
     "output_type": "stream",
     "text": [
      "                          degree                       name\n",
      "node                                                       \n",
      "5aIqB5nVVvmFsvSdExz408  0.011393      Johann Sebastian Bach\n",
      "1U5zgr455OGyIkLNXvDdrf  0.008770                Traditional\n",
      "0f1IECbrVV952unZkzrsg2  0.005489                      Mc Gw\n",
      "4hV3aU0WKvFaiX5ugXP5hp  0.004043                      MC MN\n",
      "7jzR5qj8vFnSu5JHaXgFEr  0.003710              Jean Sibelius\n",
      "...                          ...                        ...\n",
      "0bP6dxDTVaNwXY2enXRY3V  0.000000               Denny Caknan\n",
      "5UjGG8oLBUiXZ6K0qCsiZK  0.000000                  MIROxNIKI\n",
      "3LODLEIqbU611zkxRQTixr  0.000000              El Dakhlaweya\n",
      "7r1VJ53RGn5jqR98Sgpe9l  0.000000                   Elli Eli\n",
      "20LOJ2qK7UtYtszvwm8J9d  0.000000  Friðrik Ómar Hjörleifsson\n",
      "\n",
      "[156428 rows x 2 columns]\n",
      "                        closeness                name\n",
      "node                                                 \n",
      "6cEuCEZu7PAE9ZSzLLc2oQ   0.250797               R3HAB\n",
      "7hJcb9fa4alzcOq3EaNPoG   0.249918          Snoop Dogg\n",
      "5fMUXHkw8R8eOP2RNVYEZX   0.247418               Diplo\n",
      "1Cs0zKBU1kc0i8ypK3B9ai   0.246658        David Guetta\n",
      "2o5jDhtHVPhrJdv3cEQ99Z   0.246213              Tiësto\n",
      "...                           ...                 ...\n",
      "3291CCSyTY0umdaKwGbjdV   0.000000      Bohemia Urbana\n",
      "2QaIPwCkY569giygHN3YZz   0.000000           NorsePrez\n",
      "2QTBVEkCNxEcuQ6mKEhfNu   0.000000     Hoang Minh Tuan\n",
      "5VaeeaBg17hXKwwpGLdiqf   0.000000      Hundred Handed\n",
      "7f4Wc2tQa8KLqRaAJDi50A   0.000000  Yamkee Productions\n",
      "\n",
      "[156428 rows x 2 columns]\n",
      "                        betweenness                   name\n",
      "node                                                      \n",
      "7hJcb9fa4alzcOq3EaNPoG     0.038019             Snoop Dogg\n",
      "1U5zgr455OGyIkLNXvDdrf     0.031673            Traditional\n",
      "6cEuCEZu7PAE9ZSzLLc2oQ     0.031351                  R3HAB\n",
      "5fMUXHkw8R8eOP2RNVYEZX     0.025624                  Diplo\n",
      "5aIqB5nVVvmFsvSdExz408     0.021550  Johann Sebastian Bach\n",
      "...                             ...                    ...\n",
      "3aRB10jXsxie3actFznZnx     0.000000           Skitzofrenix\n",
      "3aR2cEDb8ivuH4Sqytj9QR     0.000000       İsimsiz Orkestra\n",
      "3aR29ZrPJQ1g59stLa0ybw     0.000000                  Sissi\n",
      "3aQoRK76Cu2KZ2XRRV9E5N     0.000000      Andreas S. Hansen\n",
      "0007gCIlswwLSJEJzpTF0v     0.000000                   Tuka\n",
      "\n",
      "[156428 rows x 2 columns]\n",
      "                            pagerank                   name\n",
      "node                                                       \n",
      "5aIqB5nVVvmFsvSdExz408  3.732539e-03  Johann Sebastian Bach\n",
      "1U5zgr455OGyIkLNXvDdrf  2.851601e-03            Traditional\n",
      "7jzR5qj8vFnSu5JHaXgFEr  1.135571e-03          Jean Sibelius\n",
      "0f1IECbrVV952unZkzrsg2  1.030894e-03                  Mc Gw\n",
      "4hV3aU0WKvFaiX5ugXP5hp  8.117597e-04                  MC MN\n",
      "...                              ...                    ...\n",
      "4t975kkTMdq3XVgfkuKKgu  9.754394e-07       Music With Edgar\n",
      "5OLBSbwTutqBcE3KSb1Hwd  9.754394e-07      Mostafa Al Rassam\n",
      "1ououJVWgWsHWMYDLvT7sH  9.754394e-07        Ball Park Music\n",
      "3xsEpZzxcM7HM9RBAyLtLi  9.754394e-07           Connor Bvrns\n",
      "4gwWRJBdufvMEHUuyjBDOs  9.754394e-07                   大森元貴\n",
      "\n",
      "[156428 rows x 2 columns]\n",
      "                         eigenvector                      name\n",
      "node                                                          \n",
      "329e4yvIujISKGKz1BZZbO  1.246736e-01                   Farruko\n",
      "6vXTefBL93Dj5IqAWq6OTv  1.174537e-01            French Montana\n",
      "13y7CgLHjMVRMDqxdx0Xdo  1.130273e-01                Gucci Mane\n",
      "7c0XG5cIJTrrAgEC3ULPiq  1.089857e-01             Ty Dolla $ign\n",
      "55Aa2cqylxrFIXC767Z865  1.054017e-01                 Lil Wayne\n",
      "...                              ...                       ...\n",
      "1x9Ue6JPU82tBOkbprd6S8  3.279943e-42                       Mia\n",
      "32SHE7HkqATDVI7cIyjtix  3.279943e-42                Læx & Ludo\n",
      "5NVKPrCVSV5d5yheP74XLr  3.279943e-42  Vígszínház Original Cast\n",
      "49KvokOmXOh1cCmfsItoJl  3.279943e-42                 CoverHits\n",
      "1k68BMJKEF5agTDNlO4igE  3.279943e-42               Eula Glover\n",
      "\n",
      "[156428 rows x 2 columns]\n"
     ]
    }
   ],
   "source": [
    "# take metrics results, sort them, add the name of the artists\n",
    "\n",
    "import pandas as pd\n",
    "import utils, create_graphs\n",
    "\n",
    "centralities_names = utils.METRICS[4:9]\n",
    "centralities_rankings = {}\n",
    "\n",
    "nodes_df, edges_df = create_graphs.read_dataset()\n",
    "nodes_df = nodes_df.rename(columns={\"spotify_id\": \"node\"})\n",
    "nodes_df = nodes_df.set_index(\"node\")\n",
    "#print(nodes_df)\n",
    "\n",
    "for measure in centralities_names:\n",
    "    df = pd.read_csv(f\"../results/real_node_metrics_{measure}.csv\", sep=';', index_col=0)\n",
    "    df = df.join(nodes_df[\"name\"], lsuffix=\"_metrics\", rsuffix=\"_dataset\")\n",
    "    df = df.sort_values(measure, ascending=False)\n",
    "    print(df)\n",
    "\n",
    "    centralities_rankings[measure] = df"
   ]
  },
  {
   "cell_type": "code",
   "execution_count": 7,
   "metadata": {},
   "outputs": [
    {
     "data": {
      "text/plain": [
       "<matplotlib.legend.Legend at 0x192f990b0d0>"
      ]
     },
     "execution_count": 7,
     "metadata": {},
     "output_type": "execute_result"
    },
    {
     "data": {
      "image/png": "[encoded data removed]",
      "text/plain": [
       "<Figure size 640x480 with 1 Axes>"
      ]
     },
     "metadata": {},
     "output_type": "display_data"
    }
   ],
   "source": [
    "# shows distribution of all node metrics in single histogram\n",
    "\n",
    "import matplotlib.pyplot as plt\n",
    "#import numpy as np\n",
    "\n",
    "centralities_lists = [metric[measure].to_numpy()/max(metric[measure]) for measure, metric in centralities_rankings.items()]\n",
    "labels = [measure for measure in centralities_rankings.keys()]\n",
    "\n",
    "#plt.figure(figsize=(8, 6))\n",
    "for l in centralities_lists:\n",
    "    plt.plot(l)\n",
    "plt.legend(labels)"
   ]
  },
  {
   "cell_type": "code",
   "execution_count": 8,
   "metadata": {},
   "outputs": [
    {
     "name": "stdout",
     "output_type": "stream",
     "text": [
      "['degree', 'closeness', 'betweenness', 'pagerank', 'eigenvector']\n",
      "                                                           name  degree   \n",
      "node                                                                      \n",
      "7hJcb9fa4alzcOq3EaNPoG                               Snoop Dogg       9  \\\n",
      "13y7CgLHjMVRMDqxdx0Xdo                               Gucci Mane       7   \n",
      "1Cs0zKBU1kc0i8ypK3B9ai                             David Guetta      14   \n",
      "77AiFEVeAVj2ORpC85QVJs                               Steve Aoki       8   \n",
      "5fMUXHkw8R8eOP2RNVYEZX                                    Diplo      10   \n",
      "...                                                         ...     ...   \n",
      "7yyMOelJOwDbRoBSGMj2x3                                   Kokipo  156632   \n",
      "7zUEJRavunKtqi2n029IHn                     Mohamed El Sharnouby  156633   \n",
      "7zbcwixMeXkXFrKXM6CbDd  Maija Salon musiikkileikkikoulun lapset  156634   \n",
      "7zdfnAJZnKAaL27zyxCdGl                            Bolat Nurimov  156635   \n",
      "7zvixFTda9W49rPuaK3pKL                                   herluv  156636   \n",
      "\n",
      "                        closeness  betweenness  pagerank  eigenvector   \n",
      "node                                                                    \n",
      "7hJcb9fa4alzcOq3EaNPoG          2            1        10            7  \\\n",
      "13y7CgLHjMVRMDqxdx0Xdo         20           17        11            3   \n",
      "1Cs0zKBU1kc0i8ypK3B9ai          4           10        21           45   \n",
      "77AiFEVeAVj2ORpC85QVJs          6            8        14           59   \n",
      "5fMUXHkw8R8eOP2RNVYEZX          3            4        17           70   \n",
      "...                           ...          ...       ...          ...   \n",
      "7yyMOelJOwDbRoBSGMj2x3     157096       157916    160768       167852   \n",
      "7zUEJRavunKtqi2n029IHn     157097       158042    160769       167853   \n",
      "7zbcwixMeXkXFrKXM6CbDd     157098       158063    160770       167854   \n",
      "7zdfnAJZnKAaL27zyxCdGl     157099       158076    160771       167855   \n",
      "7zvixFTda9W49rPuaK3pKL     157100       158144    160772       167856   \n",
      "\n",
      "                        avg_rank  \n",
      "node                              \n",
      "7hJcb9fa4alzcOq3EaNPoG       5.8  \n",
      "13y7CgLHjMVRMDqxdx0Xdo      11.6  \n",
      "1Cs0zKBU1kc0i8ypK3B9ai      18.8  \n",
      "77AiFEVeAVj2ORpC85QVJs      19.0  \n",
      "5fMUXHkw8R8eOP2RNVYEZX      20.8  \n",
      "...                          ...  \n",
      "7yyMOelJOwDbRoBSGMj2x3  160052.8  \n",
      "7zUEJRavunKtqi2n029IHn  160078.8  \n",
      "7zbcwixMeXkXFrKXM6CbDd  160083.8  \n",
      "7zdfnAJZnKAaL27zyxCdGl  160087.2  \n",
      "7zvixFTda9W49rPuaK3pKL  160101.6  \n",
      "\n",
      "[167856 rows x 7 columns]\n"
     ]
    }
   ],
   "source": [
    "# see how artists rank in the metrics\n",
    "\n",
    "nodes_subdf = nodes_df[[\"name\"]]\n",
    "#print(nodes_subdf)\n",
    "\n",
    "for measure, ranking in centralities_rankings.items():\n",
    "    nodes_subdf = nodes_subdf.join(ranking[measure], lsuffix=\"_metrics\", rsuffix=\"_dataset\")\n",
    "    nodes_subdf[measure] = nodes_subdf[measure].rank(method=\"first\", ascending=False).sub(1).astype(int)+1\n",
    "\n",
    "print(centralities_names)\n",
    "nodes_subdf[\"avg_rank\"] = nodes_subdf[centralities_names].mean(axis=1)\n",
    "\n",
    "nodes_subdf = nodes_subdf.sort_values(\"avg_rank\")\n",
    "print(nodes_subdf)\n",
    "#print(list(nodes_subdf[\"name\"]))"
   ]
  },
  {
   "cell_type": "code",
   "execution_count": 28,
   "metadata": {},
   "outputs": [
    {
     "name": "stdout",
     "output_type": "stream",
     "text": [
      "                        clustering_coeffs         name\n",
      "node                                                  \n",
      "6vCU4ORbNFUSNXe7mnsbWX                1.0     Nikolija\n",
      "52SfCmmw2BTxDSwVqEnYZJ                1.0     El Panda\n",
      "52MWHSohXVqTyGhBPRJepS                1.0       KIHYUN\n",
      "52NF96REyS7uomwEmZkmC5                1.0        ESTEE\n",
      "6UYfgBIUyBOv1MdLz6MvMi                1.0        Wefyr\n",
      "...                                   ...          ...\n",
      "2r4agJg5M8a7lNJLIiLBNN                0.0  Paktofonika\n",
      "2r4Kc1gIZqwTZIHDeZ5Io6                0.0   Cartel Mcs\n",
      "2r3wU1ei8dN7KQQQ9fjkKj                0.0        EFETE\n",
      "2r2gVKnWWvmrvFeCT8dNle                0.0        Bartz\n",
      "7zzvUdZZP6wcZ1gD3SpmDl                0.0      Francis\n",
      "\n",
      "[156428 rows x 2 columns]\n",
      "Nikolija\n"
     ]
    },
    {
     "data": {
      "text/plain": [
       "[<matplotlib.lines.Line2D at 0x19284c9d240>]"
      ]
     },
     "execution_count": 28,
     "metadata": {},
     "output_type": "execute_result"
    },
    {
     "data": {
      "image/png": "[encoded data removed]",
      "text/plain": [
       "<Figure size 640x480 with 1 Axes>"
      ]
     },
     "metadata": {},
     "output_type": "display_data"
    }
   ],
   "source": [
    "df = pd.read_csv(\"../results/real_node_metrics_clustering_coeffs.csv\", sep=';', index_col=0)\n",
    "df = df.join(nodes_df[\"name\"], lsuffix=\"_metrics\", rsuffix=\"_dataset\")\n",
    "df = df.sort_values(\"clustering_coeffs\", ascending=False)\n",
    "print(df)\n",
    "#print(df.loc[\"6vCU4ORbNFUSNXe7mnsbWX\"][\"name\"])\n",
    "\n",
    "plt.plot(df[\"clustering_coeffs\"].to_numpy())"
   ]
  },
  {
   "cell_type": "code",
   "execution_count": 20,
   "metadata": {},
   "outputs": [],
   "source": [
    "G = create_graphs.create_graph_nx()"
   ]
  }
 ],
 "metadata": {
  "kernelspec": {
   "display_name": "Python 3",
   "language": "python",
   "name": "python3"
  },
  "language_info": {
   "codemirror_mode": {
    "name": "ipython",
    "version": 3
   },
   "file_extension": ".py",
   "mimetype": "text/x-python",
   "name": "python",
   "nbconvert_exporter": "python",
   "pygments_lexer": "ipython3",
   "version": "3.10.4"
  }
 },
 "nbformat": 4,
 "nbformat_minor": 2
}
