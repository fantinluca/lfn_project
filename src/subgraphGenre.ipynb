{
 "cells": [
  {
   "cell_type": "markdown",
   "metadata": {},
   "source": [
    "# Subgraphs"
   ]
  },
  {
   "cell_type": "code",
   "execution_count": 1,
   "metadata": {},
   "outputs": [
    {
     "name": "stderr",
     "output_type": "stream",
     "text": [
      "C:\\Users\\fabio\\AppData\\Local\\Temp\\ipykernel_10840\\1018685671.py:1: DeprecationWarning: \n",
      "Pyarrow will become a required dependency of pandas in the next major release of pandas (pandas 3.0),\n",
      "(to allow more performant data types, such as the Arrow string type, and better interoperability with other libraries)\n",
      "but was not found to be installed on your system.\n",
      "If this would cause problems for you,\n",
      "please provide us feedback at https://github.com/pandas-dev/pandas/issues/54466\n",
      "        \n",
      "  import pandas as pd\n"
     ]
    },
    {
     "name": "stdout",
     "output_type": "stream",
     "text": [
      "d:\\Code_GitHub\\Python\\LFN\\lfn_project\\src\n"
     ]
    }
   ],
   "source": [
    "import pandas as pd\n",
    "import os\n",
    "import networkx as nx\n",
    "import re\n",
    "import matplotlib.pyplot as plt\n",
    "\n",
    "# Gets the current directory where the script is located\n",
    "current_dir = os.getcwd()\n",
    "print(current_dir)\n",
    "current_dir = current_dir.replace(\"src\", \"dataset\")\n",
    "\n",
    "# Builds full paths to .csv files within the current directory\n",
    "nodes_path = os.path.join(current_dir, 'nodes.csv')\n",
    "edges_path = os.path.join(current_dir, 'edges.csv')\n",
    "\n",
    "# Upload CSV files using paths relative to the current directory, limited to a subset of rows\n",
    "nodes_df = pd.read_csv(nodes_path)\n",
    "edges_df = pd.read_csv(edges_path)\n",
    "\n",
    "# genre that will be considered\n",
    "#genre = \"hip hop\"\n",
    "#genre = \"k-pop\"\n",
    "genre = \"classical\"\n",
    "#genre = \"country\"\n",
    "#genre = \"eurovision\"\n"
   ]
  },
  {
   "cell_type": "code",
   "execution_count": 2,
   "metadata": {},
   "outputs": [
    {
     "name": "stdout",
     "output_type": "stream",
     "text": [
      "Number of nodes: 123\n",
      "Number of edges: 36\n"
     ]
    }
   ],
   "source": [
    "# Create Graph\n",
    "G = nx.Graph()\n",
    "\n",
    "# Add nodes on the graph\n",
    "for index, row in nodes_df.iterrows():\n",
    "    # a node will be added only if it contains the genre\n",
    "    regexList = re.findall(r'\\'(.*?)\\'', row['genres'])\n",
    "    # if it contains the genre\n",
    "    if ( genre in regexList  ):\n",
    "        G.add_node(row['spotify_id'], name=row['name'], followers=row['followers'],\n",
    "               popularity=row['popularity'], genres=row['genres'], chart_hits=row['chart_hits'])\n",
    "\n",
    "\n",
    "# Add edges on the graph\n",
    "for index, row in edges_df.iterrows():\n",
    "    # add the edge only if both nodes are in the graph\n",
    "    if ( row['id_0'] in G and row['id_1'] in G ):\n",
    "        G.add_edge(row['id_0'], row['id_1'])\n",
    "\n",
    "\n",
    "# Print the number of nodes and edges\n",
    "print(f\"Number of nodes: {G.number_of_nodes()}\")\n",
    "print(f\"Number of edges: {G.number_of_edges()}\")\n",
    "\n",
    "\n",
    "# Create a dictionary mapping nodes to their 'name' attribute\n",
    "labels = nx.get_node_attributes(G, 'name')\n",
    "\n",
    "# print the genre of every node in G\n",
    "#for node, data in G.nodes(data=True):\n",
    "#    print(f\"Node {node}: Genres = {data.get('genres')}\")\n"
   ]
  },
  {
   "cell_type": "code",
   "execution_count": 7,
   "metadata": {},
   "outputs": [
    {
     "data": {
      "image/png": "[encoded data removed]",
      "text/plain": [
       "<Figure size 800x600 with 1 Axes>"
      ]
     },
     "metadata": {},
     "output_type": "display_data"
    }
   ],
   "source": [
    "# Plot the graph\n",
    "plt.figure(figsize=(8, 6))  # Optional: Set figure size\n",
    "# contiene la documentazione di nx.draw\n",
    "#https://networkx.org/documentation/stable/reference/generated/networkx.drawing.nx_pylab.draw_networkx.html\n",
    "nx.draw(G, labels=labels, with_labels=True, node_color=\"skyblue\", node_size=4, edge_color=\"grey\", width=0.5  , font_size=1)\n",
    "plt.title(\"NetworkX Graph\", fontsize=16)  # Optional: Add a title\n",
    "plt.savefig(\"networkx_graph.pdf\", format=\"pdf\")\n",
    "plt.show()"
   ]
  },
  {
   "cell_type": "markdown",
   "metadata": {},
   "source": [
    "Printa a schermo solo i nodi con degree non nullo"
   ]
  },
  {
   "cell_type": "code",
   "execution_count": 4,
   "metadata": {},
   "outputs": [
    {
     "name": "stdout",
     "output_type": "stream",
     "text": [
      "Nodes with degree > 0 and their 'name' attribute:\n",
      "ID = 7jzR5qj8vFnSu5JHaXgFEr,  Name = Jean Sibelius : degree 12\n",
      "ID = 5aIqB5nVVvmFsvSdExz408,  Name = Johann Sebastian Bach : degree 24\n",
      "ID = 50hiYMhi0g77BOkkQ4zebB,  Name = Mstislav Rostropovich : degree 1\n",
      "ID = 2RBztkH619X8txotuof9Zr,  Name = Czech Radio Symphony Orchestra : degree 1\n",
      "ID = 4hBgCK8FyJ5bV36ZZLB56X,  Name = Sviatoslav Richter : degree 1\n",
      "ID = 4IBl8k6ZsBagsI5zRjyXH7,  Name = Emerson String Quartet : degree 2\n",
      "ID = 2YfFYZnshSzgfLsKZMM4VL,  Name = Dietrich Buxtehude : degree 1\n",
      "ID = 7KKscZTeDLz1g0QthWCMQV,  Name = George Enescu : degree 1\n",
      "ID = 5zCaQxjl110XTrm4LQ1CxY,  Name = Herbert von Karajan : degree 2\n",
      "ID = 5yxyJsFanEAuwSM5kOuZKc,  Name = London Symphony Orchestra : degree 2\n",
      "ID = 1hRLlo7ZGxEmc0ztMOKurs,  Name = Maria João Pires : degree 1\n",
      "ID = 3Vfvyx6OouTxYU3emXonW7,  Name = Staatskapelle Dresden : degree 1\n",
      "ID = 2wOqMjp9TyABvtHdOSOTUS,  Name = Ludwig van Beethoven : degree 1\n",
      "ID = 1385hLNbrnbCJGokfH2ac2,  Name = Franz Liszt : degree 1\n",
      "ID = 20iZXzMb8LoWXOeca32i82,  Name = Vladimir Ashkenazy : degree 2\n",
      "ID = 78sEozQOEJxzXegUuqRSgH,  Name = Daniel Barenboim : degree 2\n",
      "ID = 60adCptqwRkANTtVja0bvf,  Name = Academy of Ancient Music : degree 1\n",
      "ID = 74gWOpgM97HU3Mn8A8d0Vm,  Name = Bavarian Radio Symphony Orchestra : degree 2\n",
      "ID = 42Vmza0WYHdhsgxFmf9Tui,  Name = Charles Gounod : degree 1\n",
      "ID = 3gacryguGmpmCvgPGt2CBI,  Name = New York Philharmonic : degree 1\n",
      "ID = 6xV7WL4etX4sILBdTz6fYN,  Name = Josef Suk : degree 1\n",
      "ID = 2LmyJyCF5V1eQyvHgJNbTn,  Name = Leonard Bernstein : degree 2\n",
      "ID = 6zgla7izAy39uJS1BlWCno,  Name = Walter Susskind : degree 1\n",
      "ID = 3faEZMpTmZFXpELU1EwWNL,  Name = Jordi Savall : degree 1\n",
      "ID = 6TD08jYeuN128P2MZTbc8E,  Name = Chicago Symphony Orchestra : degree 1\n",
      "ID = 09KZU0NsS7jRa5p0SflmGY,  Name = Philharmonia Orchestra : degree 2\n",
      "ID = 13dkPjqmbcchm8cXjEJQeP,  Name = Glenn Gould : degree 2\n",
      "ID = 10CN8N2O3FlGlPVJWBiu5D,  Name = Dietrich Fischer-Dieskau : degree 1\n",
      "ID = 3TtENHJRmw5dDe3fskI7cF,  Name = Johann Bach : degree 1\n"
     ]
    }
   ],
   "source": [
    "# Print nodes with degree > 0 and their 'name' attribute\n",
    "print(\"Nodes with degree > 0 and their 'name' attribute:\")\n",
    "for node, degree in G.degree():\n",
    "    if degree > 0:\n",
    "        # Access 'name' attribute of the node\n",
    "        name = G.nodes[node].get('name', 'No name attribute')  # Default in case 'name' is missing\n",
    "        print(f\"ID = {node},  Name = {name} : degree {degree}\")"
   ]
  },
  {
   "cell_type": "markdown",
   "metadata": {},
   "source": [
    "Stampa a schermo tutti i nodi con un certo nome"
   ]
  },
  {
   "cell_type": "code",
   "execution_count": 5,
   "metadata": {},
   "outputs": [
    {
     "name": "stdout",
     "output_type": "stream",
     "text": [
      "ID = 1JOQXgYdQV2yfrhewqx96o,  Name = Giuseppe Verdi : degree 0\n"
     ]
    }
   ],
   "source": [
    "for node, degree in G.degree():\n",
    "    # Access 'name' attribute of the node\n",
    "    name = G.nodes[node].get('name', 'No name attribute')  # Default in case 'name' is missing\n",
    "    if (name == \"Giuseppe Verdi\"):\n",
    "        print(f\"ID = {node},  Name = {name} : degree {degree}\")"
   ]
  }
 ],
 "metadata": {
  "kernelspec": {
   "display_name": "Python 3",
   "language": "python",
   "name": "python3"
  },
  "language_info": {
   "codemirror_mode": {
    "name": "ipython",
    "version": 3
   },
   "file_extension": ".py",
   "mimetype": "text/x-python",
   "name": "python",
   "nbconvert_exporter": "python",
   "pygments_lexer": "ipython3",
   "version": "3.11.9"
  }
 },
 "nbformat": 4,
 "nbformat_minor": 2
}
