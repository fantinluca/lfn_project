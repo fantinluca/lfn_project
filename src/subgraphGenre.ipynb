{
 "cells": [
  {
   "cell_type": "markdown",
   "metadata": {},
   "source": [
    "# Subgraphs"
   ]
  },
  {
   "cell_type": "code",
   "execution_count": 5,
   "metadata": {},
   "outputs": [
    {
     "name": "stdout",
     "output_type": "stream",
     "text": [
      "c:\\Users\\ferra\\OneDrive\\Desktop\\Uni\\projects_master\\lfn_project\\code\\lfn_project\\src\n"
     ]
    }
   ],
   "source": [
    "import pandas as pd\n",
    "import os\n",
    "import networkx as nx\n",
    "import re\n",
    "import matplotlib.pyplot as plt\n",
    "\n",
    "# Gets the current directory where the script is located\n",
    "current_dir = os.getcwd()\n",
    "print(current_dir)\n",
    "current_dir = current_dir.replace(\"src\", \"dataset\")\n",
    "\n",
    "# Builds full paths to .csv files within the current directory\n",
    "nodes_path = os.path.join(current_dir, 'nodes.csv')\n",
    "edges_path = os.path.join(current_dir, 'edges.csv')\n",
    "\n",
    "# Upload CSV files using paths relative to the current directory, limited to a subset of rows\n",
    "nodes_df = pd.read_csv(nodes_path)\n",
    "edges_df = pd.read_csv(edges_path)\n",
    "\n",
    "# genre that will be considered\n",
    "#genre = \"hip hop\"\n",
    "#genre = \"k-pop\"\n",
    "genre = \"classical\"\n",
    "#genre = \"country\"\n",
    "#genre = \"eurovision\"\n",
    "#genre = \"rap\"\n"
   ]
  },
  {
   "cell_type": "code",
   "execution_count": 6,
   "metadata": {},
   "outputs": [
    {
     "name": "stdout",
     "output_type": "stream",
     "text": [
      "Number of nodes: 448\n",
      "Number of edges: 4023\n"
     ]
    }
   ],
   "source": [
    "# Create Graph\n",
    "G = nx.Graph()\n",
    "\n",
    "# Add nodes on the graph\n",
    "for index, row in nodes_df.iterrows():\n",
    "    # a node will be added only if it contains the genre\n",
    "    regexList = re.findall(r'\\'(.*?)\\'', row['genres'])\n",
    "    # if it contains the genre\n",
    "    if ( genre in regexList  ):\n",
    "        G.add_node(row['spotify_id'], name=row['name'], followers=row['followers'],\n",
    "               popularity=row['popularity'], genres=row['genres'], chart_hits=row['chart_hits'])\n",
    "\n",
    "\n",
    "# Add edges on the graph\n",
    "for index, row in edges_df.iterrows():\n",
    "    # add the edge only if both nodes are in the graph\n",
    "    if ( row['id_0'] in G and row['id_1'] in G ):\n",
    "        G.add_edge(row['id_0'], row['id_1'])\n",
    "\n",
    "\n",
    "# Print the number of nodes and edges\n",
    "print(f\"Number of nodes: {G.number_of_nodes()}\")\n",
    "print(f\"Number of edges: {G.number_of_edges()}\")\n",
    "\n",
    "\n",
    "# Create a dictionary mapping nodes to their 'name' attribute\n",
    "labels = nx.get_node_attributes(G, 'name')\n",
    "\n",
    "# print the genre of every node in G\n",
    "#for node, data in G.nodes(data=True):\n",
    "#    print(f\"Node {node}: Genres = {data.get('genres')}\")\n"
   ]
  },
  {
   "cell_type": "code",
   "execution_count": 12,
   "metadata": {},
   "outputs": [
    {
     "data": {
      "image/png": "[encoded data removed]",
      "text/plain": [
       "<Figure size 640x480 with 1 Axes>"
      ]
     },
     "metadata": {},
     "output_type": "display_data"
    }
   ],
   "source": [
    "# Plot the graph\n",
    "#plt.figure(figsize=(8, 6))  # Optional: Set figure size\n",
    "# contiene la documentazione di nx.draw\n",
    "#https://networkx.org/documentation/stable/reference/generated/networkx.drawing.nx_pylab.draw_networkx.html\n",
    "nx.draw(G, labels=labels, with_labels=True, node_color=\"skyblue\", node_size=4, edge_color=\"grey\", width=0.5  , font_size=1)\n",
    "plt.title(\"NetworkX Graph\", fontsize=16)  # Optional: Add a title\n",
    "plt.savefig(\"networkx_graph.pdf\", format=\"pdf\")\n",
    "plt.show()"
   ]
  },
  {
   "cell_type": "markdown",
   "metadata": {},
   "source": [
    "Printa a schermo solo i nodi con degree non nullo"
   ]
  },
  {
   "cell_type": "code",
   "execution_count": null,
   "metadata": {},
   "outputs": [
    {
     "name": "stdout",
     "output_type": "stream",
     "text": [
      "Nodes with degree > 0 and their 'name' attribute:\n"
     ]
    },
    {
     "ename": "ValueError",
     "evalue": "dictionary update sequence element #0 has length 22; 2 is required",
     "output_type": "error",
     "traceback": [
      "\u001b[1;31m---------------------------------------------------------------------------\u001b[0m",
      "\u001b[1;31mValueError\u001b[0m                                Traceback (most recent call last)",
      "Cell \u001b[1;32mIn[11], line 3\u001b[0m\n\u001b[0;32m      1\u001b[0m \u001b[38;5;66;03m# Print nodes with degree > 0 and their 'name' attribute\u001b[39;00m\n\u001b[0;32m      2\u001b[0m \u001b[38;5;28mprint\u001b[39m(\u001b[38;5;124m\"\u001b[39m\u001b[38;5;124mNodes with degree > 0 and their \u001b[39m\u001b[38;5;124m'\u001b[39m\u001b[38;5;124mname\u001b[39m\u001b[38;5;124m'\u001b[39m\u001b[38;5;124m attribute:\u001b[39m\u001b[38;5;124m\"\u001b[39m)\n\u001b[1;32m----> 3\u001b[0m tmp \u001b[38;5;241m=\u001b[39m \u001b[38;5;28;43mdict\u001b[39;49m\u001b[43m(\u001b[49m\u001b[38;5;28;43msorted\u001b[39;49m\u001b[43m(\u001b[49m\u001b[38;5;28;43mdict\u001b[39;49m\u001b[43m(\u001b[49m\u001b[43mG\u001b[49m\u001b[38;5;241;43m.\u001b[39;49m\u001b[43mdegree\u001b[49m\u001b[43m(\u001b[49m\u001b[43m)\u001b[49m\u001b[43m)\u001b[49m\u001b[43m,\u001b[49m\u001b[43m \u001b[49m\u001b[43mkey\u001b[49m\u001b[38;5;241;43m=\u001b[39;49m\u001b[38;5;28;43;01mlambda\u001b[39;49;00m\u001b[43m \u001b[49m\u001b[43mitem\u001b[49m\u001b[43m:\u001b[49m\u001b[43m \u001b[49m\u001b[43mitem\u001b[49m\u001b[43m[\u001b[49m\u001b[38;5;241;43m1\u001b[39;49m\u001b[43m]\u001b[49m\u001b[43m)\u001b[49m\u001b[43m)\u001b[49m\n\u001b[0;32m      4\u001b[0m \u001b[38;5;28;01mfor\u001b[39;00m node, degree \u001b[38;5;129;01min\u001b[39;00m G\u001b[38;5;241m.\u001b[39mdegree():\n\u001b[0;32m      5\u001b[0m     \u001b[38;5;28;01mif\u001b[39;00m degree \u001b[38;5;241m>\u001b[39m \u001b[38;5;241m0\u001b[39m:\n\u001b[0;32m      6\u001b[0m         \u001b[38;5;66;03m# Access 'name' attribute of the node\u001b[39;00m\n",
      "\u001b[1;31mValueError\u001b[0m: dictionary update sequence element #0 has length 22; 2 is required"
     ]
    }
   ],
   "source": [
    "# Print nodes with degree > 0 and their 'name' attribute\n",
    "print(\"Nodes with degree > 0 and their 'name' attribute:\")\n",
    "for node, degree in G.degree():\n",
    "    if degree > 0:\n",
    "        # Access 'name' attribute of the node\n",
    "        name = G.nodes[node].get('name', 'No name attribute')  # Default in case 'name' is missing\n",
    "        print(f\"ID = {node},  Name = {name} : degree {degree}\")"
   ]
  },
  {
   "cell_type": "markdown",
   "metadata": {},
   "source": [
    "Stampa a schermo tutti i nodi con un certo nome"
   ]
  },
  {
   "cell_type": "code",
   "execution_count": 9,
   "metadata": {},
   "outputs": [],
   "source": [
    "for node, degree in G.degree():\n",
    "    # Access 'name' attribute of the node\n",
    "    name = G.nodes[node].get('name', 'No name attribute')  # Default in case 'name' is missing\n",
    "    if (name == \"Giuseppe Verdi\"):\n",
    "        print(f\"ID = {node},  Name = {name} : degree {degree}\")"
   ]
  }
 ],
 "metadata": {
  "kernelspec": {
   "display_name": "Python 3",
   "language": "python",
   "name": "python3"
  },
  "language_info": {
   "codemirror_mode": {
    "name": "ipython",
    "version": 3
   },
   "file_extension": ".py",
   "mimetype": "text/x-python",
   "name": "python",
   "nbconvert_exporter": "python",
   "pygments_lexer": "ipython3",
   "version": "3.10.4"
  }
 },
 "nbformat": 4,
 "nbformat_minor": 2
}
